{
 "cells": [
  {
   "cell_type": "code",
   "execution_count": 18,
   "id": "ce04655f",
   "metadata": {
    "scrolled": true
   },
   "outputs": [
    {
     "name": "stdout",
     "output_type": "stream",
     "text": [
      "Twinkle, twinkle, little star,\n",
      "    How I wonder what you are! \n",
      "         Up above the world so high,\n",
      "         Like a diamond in the sky \n",
      " Twinkle, twinkle, little star, \n",
      "      How I wonder what you are! \n"
     ]
    }
   ],
   "source": [
    "# 1) Write a Python program to print thefollowing string in a specific format(see the output).\n",
    "# Twinkle, twinkle, little star,\n",
    "# How I wonder what you are!\n",
    "# Up above the world so high,\n",
    "# Like a diamond in the sky. Twinkle, twinkle, little star,\n",
    "# How I wonder what you are\n",
    "print(\"Twinkle, twinkle, little star,\\n    How I wonder what you are! \\n         Up above the world so high,\\n         Like a diamond in the sky \\n Twinkle, twinkle, little star, \\n      How I wonder what you are! \")"
   ]
  },
  {
   "cell_type": "code",
   "execution_count": 20,
   "id": "73654d00",
   "metadata": {},
   "outputs": [
    {
     "name": "stdout",
     "output_type": "stream",
     "text": [
      "3.8.8\n"
     ]
    }
   ],
   "source": [
    "# 2) Write a Python program to get the Python version you are using?\n",
    "from platform import python_version\n",
    "print (python_version())"
   ]
  },
  {
   "cell_type": "code",
   "execution_count": 21,
   "id": "994640a1",
   "metadata": {},
   "outputs": [
    {
     "name": "stdout",
     "output_type": "stream",
     "text": [
      "Current date and time is:\n",
      "21-10-24-00:05:27\n"
     ]
    }
   ],
   "source": [
    "# 3) Write a Python program to display the current date and time.\n",
    "import datetime\n",
    "now = datetime.datetime.now()\n",
    "print(\"Current date and time is:\")\n",
    "print(now.strftime(\"%y-%m-%d-%H:%M:%S\"))"
   ]
  },
  {
   "cell_type": "code",
   "execution_count": 22,
   "id": "ab49cac9",
   "metadata": {},
   "outputs": [
    {
     "name": "stdout",
     "output_type": "stream",
     "text": [
      "Enter the radius of the circle :10\n",
      "Area of the circle is : 314.1592653589793\n"
     ]
    }
   ],
   "source": [
    "# 4) Write a Python program which accepts the radius of a circle from the user and compute\n",
    "# the area.\n",
    "import math\n",
    "radius = float(input(\"Enter the radius of the circle :\"))\n",
    "area = math.pi * radius * radius\n",
    "print(\"Area of the circle is : {0}\".format(area))\n",
    "\n"
   ]
  },
  {
   "cell_type": "code",
   "execution_count": 24,
   "id": "d29664ff",
   "metadata": {},
   "outputs": [
    {
     "name": "stdout",
     "output_type": "stream",
     "text": [
      "Enter your First Name:Haris \n",
      "Enter your Last Name:Khan\n",
      "Hello Khan Haris \n"
     ]
    }
   ],
   "source": [
    "# 5) Write a Python program which accepts the users first and last name and print them in\n",
    "# reverse order with a space between them.\n",
    "\n",
    "firstName = input(\"Enter your First Name:\")\n",
    "lastName = input (\"Enter your Last Name:\")\n",
    "print(\"Hello\" \" \"+ lastName + \" \" +firstName)\n",
    "\n"
   ]
  },
  {
   "cell_type": "code",
   "execution_count": 27,
   "id": "af8f0e8e",
   "metadata": {},
   "outputs": [
    {
     "name": "stdout",
     "output_type": "stream",
     "text": [
      "Enter Number :5\n",
      "Enter Number :6\n",
      "11\n"
     ]
    }
   ],
   "source": [
    "# 6. Write a python program which takes two inputs from user and print them addition\n",
    "\n",
    "num1 = int(input(\"Enter Number :\"))\n",
    "num2 = int(input(\"Enter Number :\"))\n",
    "result = num1 + num2\n",
    "print(result)"
   ]
  },
  {
   "cell_type": "code",
   "execution_count": 1,
   "id": "643875b9",
   "metadata": {},
   "outputs": [
    {
     "name": "stdout",
     "output_type": "stream",
     "text": [
      "Enter your marks for Math55\n",
      "Enter your marks for Eng55\n",
      "Enter your marks for Sci55\n",
      "Enter your marks for Isl55\n",
      "Enter your marks for Urdu55\n",
      "55.00000000000001\n",
      "You Failed the exam\n"
     ]
    }
   ],
   "source": [
    "# 7.Write a program which takes 5 inputs from user for different subject’s marks,total it and generate mark sheet using grades\n",
    "\n",
    "math = input(\"Enter your marks for Math\")\n",
    "Eng = input(\"Enter your marks for Eng\")\n",
    "Sci = input(\"Enter your marks for Sci\")\n",
    "Isl = input(\"Enter your marks for Isl\")\n",
    "Urdu = input(\"Enter your marks for Urdu\")\n",
    "\n",
    "total_percentage = int(math) + int(Eng) + int(Sci) + int(Isl) + int(Urdu)\n",
    "print(total_percentage/500*100)\n",
    "\n",
    "\n",
    "if total_percentage < 100 and percent > 80:\n",
    "    print(\"Grade A+\")\n",
    "elif total_percentage < 80 and percent > 70:\n",
    "    print (\"Grade A\")\n",
    "elif total_percentage < 70 and percent > 60:\n",
    "        print (\"Grade B\")\n",
    "elif total_percentage < 60 and  percent > 50:\n",
    "        print (\"Grade C\")\n",
    "elif total_percentage < 50 and percent > 40:\n",
    "        print (\"Grade D\") \n",
    "elif total_percentage < 40 and percent > 33:\n",
    "        print (\"Grade E\")\n",
    "else :\n",
    "        print (\"You Failed the exam\")   "
   ]
  },
  {
   "cell_type": "code",
   "execution_count": 3,
   "id": "ac191999",
   "metadata": {},
   "outputs": [
    {
     "name": "stdout",
     "output_type": "stream",
     "text": [
      "Enter an integar number20\n",
      "20 is an even Number\n"
     ]
    }
   ],
   "source": [
    "# 8.Write a program which take input from user and identify that the given number is even or odd? \n",
    "\n",
    "number = int(input(\"Enter an integar number\"))\n",
    "remainder = number % 2\n",
    "if(remainder == 0):\n",
    "    print(number,\"is an even Number\")\n",
    "else:\n",
    "        print(number,\"is an odd Number\")\n"
   ]
  },
  {
   "cell_type": "code",
   "execution_count": 3,
   "id": "d279e336",
   "metadata": {},
   "outputs": [
    {
     "data": {
      "text/plain": [
       "12"
      ]
     },
     "execution_count": 3,
     "metadata": {},
     "output_type": "execute_result"
    }
   ],
   "source": [
    "# 9. Write a program which print the length of the list? \n",
    "\n",
    "my_list = [1,2,3,5,6,7,8,9,10,11,12,13]\n",
    "len(my_list)"
   ]
  },
  {
   "cell_type": "code",
   "execution_count": 4,
   "id": "aacc8883",
   "metadata": {},
   "outputs": [],
   "source": [
    "# 10.Write a Python program to sum all the numeric items in a list? \n"
   ]
  },
  {
   "cell_type": "code",
   "execution_count": 5,
   "id": "7020c304",
   "metadata": {},
   "outputs": [],
   "source": [
    "def sum_list(items):\n",
    "    sum_numbers = 0\n",
    "    for x in items:\n",
    "        sum_numbers += x\n",
    "        return sum_numbers\n",
    "    print(sum_list([1,2,3]))"
   ]
  },
  {
   "cell_type": "code",
   "execution_count": 8,
   "id": "ee80f20f",
   "metadata": {},
   "outputs": [
    {
     "name": "stdout",
     "output_type": "stream",
     "text": [
      "[1, 10, 20, 50, 100]\n",
      "smallest number is: 1\n",
      "Largest number is: 100\n"
     ]
    }
   ],
   "source": [
    "# 11.Write a Python program to get the largest number from a numeric list\n",
    "mylist=[20,10,100,1,50]\n",
    "mylist.sort()\n",
    "print(mylist)\n",
    "print(\"smallest number is:\",mylist[0])\n",
    "print(\"Largest number is:\",mylist[-1])\n",
    "\n"
   ]
  },
  {
   "cell_type": "code",
   "execution_count": 9,
   "id": "74f538a1",
   "metadata": {},
   "outputs": [
    {
     "name": "stdout",
     "output_type": "stream",
     "text": [
      "1\n",
      "\n",
      "1\n",
      "\n",
      "2\n",
      "\n",
      "3\n",
      "\n"
     ]
    }
   ],
   "source": [
    "# 12.Take a list, say for example this one: \n",
    "#     a=[1,1,2,3,5,8,13,21,34,55,89]\n",
    "# Write a program that prints out all the elements of the list that are less than 5.\n",
    "\n",
    "test_list= [1, 1, 2, 3, 5, 8, 13, 21, 34, 55, 89]\n",
    "for element in test_list:\n",
    "    if(int(element) <5):\n",
    "        print(str(element)+\"\\n\")\n"
   ]
  }
 ],
 "metadata": {
  "kernelspec": {
   "display_name": "Python 3",
   "language": "python",
   "name": "python3"
  },
  "language_info": {
   "codemirror_mode": {
    "name": "ipython",
    "version": 3
   },
   "file_extension": ".py",
   "mimetype": "text/x-python",
   "name": "python",
   "nbconvert_exporter": "python",
   "pygments_lexer": "ipython3",
   "version": "3.8.8"
  }
 },
 "nbformat": 4,
 "nbformat_minor": 5
}
